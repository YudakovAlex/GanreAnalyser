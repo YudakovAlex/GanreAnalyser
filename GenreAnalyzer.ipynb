{
 "cells": [
  {
   "cell_type": "code",
   "execution_count": 1,
   "metadata": {},
   "outputs": [],
   "source": [
    "from scipy.io import wavfile\n",
    "import matplotlib.pyplot as plt\n",
    "import pandas as pd\n",
    "import os\n",
    "import subprocess\n",
    "import sys\n",
    "import requests as req\n",
    "from pyquery import PyQuery\n",
    "from datetime import datetime\n",
    "import json\n",
    "from itertools import combinations\n"
   ]
  },
  {
   "cell_type": "markdown",
   "metadata": {},
   "source": [
    "### There is one part that is written not in Python: conversion mp3 to wav is done via Linux app called \"mpg321\" in function convert_mp3_to_wav. Everything else is Python."
   ]
  },
  {
   "cell_type": "code",
   "execution_count": 2,
   "metadata": {},
   "outputs": [],
   "source": [
    "def get_all_mp3s(path):\n",
    "    w = os.walk(path)\n",
    "    # folder / subfolders / files\n",
    "    all_files = []\n",
    "    for sw in w:\n",
    "        all_files += [sw[0] + \"/\" + x for x in sw[2]]\n",
    "    mp3_files = []\n",
    "    for f in all_files:\n",
    "        if f.split(\".\")[-1].upper() == \"MP3\": # Only taking mp3s\n",
    "            mp3_files.append(f)\n",
    "    return mp3_files"
   ]
  },
  {
   "cell_type": "code",
   "execution_count": 3,
   "metadata": {},
   "outputs": [],
   "source": [
    "def convert_mp3_to_wav(filename_mp3, filename_wav=None):\n",
    "    cd = os.getcwd() # If filename doesn't contain path, use current directory\n",
    "    if \"/\" not in filename_mp3:\n",
    "        filename_mp3 = cd + \"/\" + filename_mp3\n",
    "    filename_wav =  \".\".join(mp3_file.split(\".\")[0:-1]) + \".wav\"\n",
    "    subprocess.run([\"mpg321\", \"-w\", filename_wav, filename_mp3])\n",
    "    return filename_wav"
   ]
  },
  {
   "cell_type": "code",
   "execution_count": 4,
   "metadata": {},
   "outputs": [],
   "source": [
    "def get_wav_data(filepath, bucket_width=100):\n",
    "    \"\"\" \n",
    "    Data of wav file is very much narrowed down to what I want to analyse. \n",
    "    So if you want to analyse in your own way, this is the function to change.\n",
    "    \"\"\"\n",
    "    fs, data = wavfile.read(filepath)\n",
    "    df_data = pd.DataFrame(data)\n",
    "    df_data['max'] = df_data.max(axis=1)\n",
    "    df_data['buckets'] = pd.Series(df_data['max']/bucket_width).astype(int)\n",
    "    bucket_sizes = df_data.groupby('buckets').size()\n",
    "    bucket_sizes = bucket_sizes.drop(bucket_sizes.idxmax())\n",
    "    return (bucket_sizes/max(bucket_sizes))"
   ]
  },
  {
   "cell_type": "code",
   "execution_count": 6,
   "metadata": {
    "scrolled": true
   },
   "outputs": [],
   "source": [
    "def dump_json(path, df_data):\n",
    "    \"Dumping data into JSON\"\n",
    "    with open(path, 'w') as outfile:\n",
    "        json.dump(df_data.to_json(), outfile)\n",
    "    print(\"Data is dumped.\")\n",
    "    return True\n",
    "\n",
    "#dump_json(full_data_dump_file_path, pd.DataFrame(all_data))"
   ]
  },
  {
   "cell_type": "code",
   "execution_count": 7,
   "metadata": {},
   "outputs": [],
   "source": [
    "def read_json(path):\n",
    "    \"Reading dumps\"\n",
    "    with open(path, 'r') as datafile:\n",
    "        loaded_data = json.loads(json.load(datafile))\n",
    "    print(\"Loaded data for\",len(all_data),\"songs\")\n",
    "    return loaded_data\n",
    "\n",
    "#loaded_data = read_json(full_data_dump_file_path)"
   ]
  },
  {
   "cell_type": "code",
   "execution_count": 27,
   "metadata": {
    "scrolled": false
   },
   "outputs": [
    {
     "name": "stdout",
     "output_type": "stream",
     "text": [
      "Finished! Songs processed: 3 Size of the data is 0.234375 kb.\n",
      "Lib path is removed from file names, dictionary is converted to DataFrame\n"
     ]
    }
   ],
   "source": [
    "def process_library(path, max_files=None):\n",
    "    \"Get aggregated wav data from the lib path\"\n",
    "    lib_data = {}\n",
    "    process_counter = 0\n",
    "    convert_counter = 0\n",
    "    for mp3_file in get_all_mp3s(path):\n",
    "        wav_file = (\".\".join(mp3_file.split(\".\")[0:-1]) + \".wav\")\n",
    "        if not os.path.isfile(wav_file):\n",
    "            # I'm saving wav next to mp3, you can change it here.\n",
    "            wav_file = convert_mp3_to_wav(mp3_file, wav_file)\n",
    "            convert_counter+=1\n",
    "        wav_data = get_wav_data(wav_file,300)\n",
    "        # Can remove wav_files here!\n",
    "        #os.remove(wav_file)\n",
    "        lib_data[mp3_file] = wav_data\n",
    "        process_counter+=1\n",
    "        if (process_counter==10 or process_counter==50 or process_counter%100==0):\n",
    "            print(datetime.now())\n",
    "            print(\"Processed \" + str(process_counter)\n",
    "                  + \" songs, converted \" + str(convert_counter))\n",
    "        if max_files: \n",
    "            if process_counter>=max_files: \n",
    "                break\n",
    "    print(\"Finished! Songs processed:\", len(lib_data), \"Size of the data is\", sys.getsizeof(lib_data)/1024, \"kb.\")\n",
    "    return lib_data\n",
    "\n",
    "misuc_lib_path = \"/media/shad/DATA/MuzAnalysis\" # Location of the library\n",
    "full_data_dump_file_path = misuc_lib_path + \"/Full_Data.json\" # Your data dump file\n",
    "\n",
    "# Keeping whole file paths to be able to manipulate files later\n",
    "all_data = process_library(misuc_lib_path, max_files=3)\n",
    "\n",
    "\n",
    "# Clean names (shorten for convinience and memory optimization), saves as a separate dataframe\n",
    "# Keeping 2 data structures for experimentation convinience, feel free to use only one and remove another!\n",
    "all_data_clean_dict = {k[len(misuc_lib_path):]:v for k, v in all_data.items()}\n",
    "all_data_df = pd.DataFrame([(k[len(misuc_lib_path):], v) for k, v in all_data.items()])\n",
    "print(\"Lib path is removed from file names, dictionary is converted to DataFrame\")"
   ]
  },
  {
   "cell_type": "markdown",
   "metadata": {},
   "source": [
    "# Experiment starting from here\n",
    "### Everythin that follows is in very raw state"
   ]
  },
  {
   "cell_type": "code",
   "execution_count": 18,
   "metadata": {
    "collapsed": true
   },
   "outputs": [
    {
     "name": "stdout",
     "output_type": "stream",
     "text": [
      "/media/shad/DATA/MuzAnalysis/Disturbed/Disturbed - Fade to Black (Metallica Cover).mp3\n"
     ]
    },
    {
     "data": {
      "image/png": "[encoded data removed]",
      "text/plain": [
       "<Figure size 432x288 with 1 Axes>"
      ]
     },
     "metadata": {
      "needs_background": "light"
     },
     "output_type": "display_data"
    },
    {
     "name": "stdout",
     "output_type": "stream",
     "text": [
      "/media/shad/DATA/MuzAnalysis/Disturbed/[2000] The Sickness (10th Anniversary Edition)/01 - Voices.mp3\n"
     ]
    },
    {
     "data": {
      "image/png": "[encoded data removed]",
      "text/plain": [
       "<Figure size 432x288 with 1 Axes>"
      ]
     },
     "metadata": {
      "needs_background": "light"
     },
     "output_type": "display_data"
    },
    {
     "name": "stdout",
     "output_type": "stream",
     "text": [
      "/media/shad/DATA/MuzAnalysis/Disturbed/[2000] The Sickness (10th Anniversary Edition)/02 - The Game.mp3\n"
     ]
    },
    {
     "data": {
      "image/png": "[encoded data removed]",
      "text/plain": [
       "<Figure size 432x288 with 1 Axes>"
      ]
     },
     "metadata": {
      "needs_background": "light"
     },
     "output_type": "display_data"
    }
   ],
   "source": [
    "chart_sample = 3 # Limit sample of songs to build charts\n",
    "for k, v in all_data.items():\n",
    "    if chart_sample > 0:\n",
    "        chart_sample-=1\n",
    "        print(k)\n",
    "        plt.plot(v)\n",
    "        plt.show()\n",
    "    else:\n",
    "        break"
   ]
  },
  {
   "cell_type": "code",
   "execution_count": 35,
   "metadata": {},
   "outputs": [
    {
     "name": "stdout",
     "output_type": "stream",
     "text": [
      "Number of possible comparisons: 3\n"
     ]
    }
   ],
   "source": [
    "def make_combinations(df):\n",
    "    # Make a list of all combinations, to have list of comparisons.\n",
    "    prodj = combinations(list(df[0]), 2)\n",
    "    prodj = list(prodj)\n",
    "    print(\"Number of possible comparisons:\", len(list(prodj)))\n",
    "    return prodj\n",
    "\n",
    "comb = make_combinations(all_data_df)"
   ]
  },
  {
   "cell_type": "code",
   "execution_count": 31,
   "metadata": {},
   "outputs": [
    {
     "name": "stdout",
     "output_type": "stream",
     "text": [
      "[   (   '/Disturbed/Disturbed - Fade to Black (Metallica Cover).mp3',\n",
      "        '/Disturbed/[2000] The Sickness (10th Anniversary Edition)/01 - '\n",
      "        'Voices.mp3'),\n",
      "    (   '/Disturbed/Disturbed - Fade to Black (Metallica Cover).mp3',\n",
      "        '/Disturbed/[2000] The Sickness (10th Anniversary Edition)/02 - The '\n",
      "        'Game.mp3'),\n",
      "    (   '/Disturbed/[2000] The Sickness (10th Anniversary Edition)/01 - '\n",
      "        'Voices.mp3',\n",
      "        '/Disturbed/[2000] The Sickness (10th Anniversary Edition)/02 - The '\n",
      "        'Game.mp3')]\n"
     ]
    }
   ],
   "source": [
    "import pprint\n",
    "# Check out all combination pairs\n",
    "pp = pprint.PrettyPrinter(indent=4)\n",
    "pp.pprint(comb)"
   ]
  },
  {
   "cell_type": "code",
   "execution_count": 38,
   "metadata": {},
   "outputs": [
    {
     "name": "stdout",
     "output_type": "stream",
     "text": [
      "Number of possible comparisons: 3\n",
      "Pairs to compare: 3\n",
      "2019-05-02 13:11:43.223476 Compared 3 pairs of songs.\n",
      "Finished!\n",
      "\n",
      "The lower value, the closer genre of songs.\n"
     ]
    },
    {
     "data": {
      "text/plain": [
       "[('/Disturbed/Disturbed - Fade to Black (Metallica Cover).mp3',\n",
       "  '/Disturbed/[2000] The Sickness (10th Anniversary Edition)/01 - Voices.mp3',\n",
       "  8.79261631584778),\n",
       " ('/Disturbed/Disturbed - Fade to Black (Metallica Cover).mp3',\n",
       "  '/Disturbed/[2000] The Sickness (10th Anniversary Edition)/02 - The Game.mp3',\n",
       "  7.623176410871259),\n",
       " ('/Disturbed/[2000] The Sickness (10th Anniversary Edition)/01 - Voices.mp3',\n",
       "  '/Disturbed/[2000] The Sickness (10th Anniversary Edition)/02 - The Game.mp3',\n",
       "  5.358690467809089)]"
      ]
     },
     "execution_count": 38,
     "metadata": {},
     "output_type": "execute_result"
    }
   ],
   "source": [
    "def compare_songs(prodj, cleaned_dect):\n",
    "    print(\"Pairs to compare: \" + str(len(prodj)))\n",
    "    comparing_data = []#pd.DataFrame()\n",
    "    comparing_counter = 0\n",
    "    for song1_name, song2_name in prodj:\n",
    "        comparing_counter+=1\n",
    "        if (comparing_counter%100000==0 \n",
    "            or comparing_counter==10 \n",
    "            or comparing_counter==50\n",
    "            or comparing_counter==100\n",
    "            or comparing_counter==500\n",
    "            or comparing_counter==1000\n",
    "            or comparing_counter==10000\n",
    "            or comparing_counter==50000\n",
    "           ):\n",
    "            print(str(datetime.now()) + \" Compared \" + str(comparing_counter) + \" songs.\")\n",
    "        if song1_name == song2_name:\n",
    "            print(\"Comparing to itself :(\")\n",
    "        result = pd.concat([\n",
    "            cleaned_dect[song1_name], \n",
    "            cleaned_dect[song2_name]], \n",
    "            axis=1, join='inner').fillna(0) #join_axes=[song1_data.index]\n",
    "        result['dif'] = abs(result[0] - result[1])\n",
    "        #print(str(sum(result['dif'])) + \" for \" + song2_name)\n",
    "        comparing_data.append((song1_name, song2_name, sum(result['dif'])))\n",
    "\n",
    "    print(str(datetime.now()) + \" Compared \" + str(comparing_counter) + \" pairs of songs.\")\n",
    "    print(\"Finished!\")\n",
    "    return comparing_data\n",
    "\n",
    "# Should rewrite to use only one data structure\n",
    "comp = compare_songs(make_combinations(all_data_df), all_data_clean_dict)\n",
    "print(\"\\nThe lower value, the closer genre of songs.\")\n",
    "comp"
   ]
  },
  {
   "cell_type": "code",
   "execution_count": null,
   "metadata": {},
   "outputs": [],
   "source": [
    "#keys = list(all_data_df[0])\n",
    "index = all_data_df.index.union(all_data_df[0])\n",
    "all_data_df = all_data_df.reindex(index=index, columns=index, fill_value=0)\n",
    "print(all_data_df)"
   ]
  },
  {
   "cell_type": "code",
   "execution_count": null,
   "metadata": {},
   "outputs": [],
   "source": [
    "import networkx as nx\n",
    "G = G=nx.from_numpy_matrix(comparing_data)\n",
    "nx.draw(G)"
   ]
  },
  {
   "cell_type": "markdown",
   "metadata": {},
   "source": [
    "## Product join of all elements"
   ]
  },
  {
   "cell_type": "code",
   "execution_count": null,
   "metadata": {
    "scrolled": true
   },
   "outputs": [],
   "source": [
    "from pprint import PrettyPrinter\n",
    "pp = PrettyPrinter(indent=4)\n",
    "\n",
    "\n",
    "cut_path = len(misuc_lib_path)\n",
    "cd = [(c[0][cut_path:], c[1][cut_path:], c[2]) for c in comparing_data]\n",
    "sizes = [c[2] for c in cd]\n",
    "size_buckets = {}\n",
    "for s in sizes:\n",
    "    ns = int(s/10)\n",
    "    if ns in size_buckets:\n",
    "        size_buckets[ns] += 1\n",
    "    else:\n",
    "        size_buckets[ns] = 1\n",
    "\n",
    "pp.pprint(size_buckets)"
   ]
  },
  {
   "cell_type": "code",
   "execution_count": null,
   "metadata": {},
   "outputs": [],
   "source": [
    "len(top_simil)\n",
    "top_simil.to_csv(index=True, path_or_buf=(misuc_lib_path + \"/Comparing.csv\"))"
   ]
  },
  {
   "cell_type": "markdown",
   "metadata": {},
   "source": [
    "# Web parser"
   ]
  },
  {
   "cell_type": "code",
   "execution_count": null,
   "metadata": {},
   "outputs": [],
   "source": [
    "\n",
    "r = req.get('https://lyrics.fandom.com/wiki/3_Doors_Down')\n"
   ]
  },
  {
   "cell_type": "code",
   "execution_count": null,
   "metadata": {},
   "outputs": [],
   "source": [
    "print(r.content)"
   ]
  },
  {
   "cell_type": "code",
   "execution_count": null,
   "metadata": {},
   "outputs": [],
   "source": [
    "# Getting ganres\n",
    "b1 = bands[0]\n",
    "url = \"https://lyrics.fandom.com/wiki/\" + \"_\".join(b1.split(\" \"))\n",
    "r = req.get(url)\n",
    "print(r.content)"
   ]
  },
  {
   "cell_type": "code",
   "execution_count": null,
   "metadata": {},
   "outputs": [],
   "source": [
    "# Parsing out ganres\n",
    "pq = PyQuery(r.content)\n",
    "print(pq)\n",
    "\n",
    "</div></div><div class=\"css-table-cell\">\n",
    "<p class=\"highlight\"><b>Genres:</b></p><div>\n",
    "<ul><li><a href=\"/wiki/Category:Genre/Alternative_Rock\" title=\"Category:Genre/Alternative Rock\">Alternative Rock</a>\n",
    "</li><li><a href=\"/wiki/Category:Genre/Pop_Rock\" title=\"Category:Genre/Pop Rock\">Pop Rock</a>\n",
    "</li><li><a href=\"/wiki/Category:Genre/Post-Grunge\" title=\"Category:Genre/Post-Grunge\">Post-Grunge</a>\n",
    "</li></ul>\n",
    "</div>"
   ]
  }
 ],
 "metadata": {
  "kernelspec": {
   "display_name": "Python 3",
   "language": "python",
   "name": "python3"
  },
  "language_info": {
   "codemirror_mode": {
    "name": "ipython",
    "version": 3
   },
   "file_extension": ".py",
   "mimetype": "text/x-python",
   "name": "python",
   "nbconvert_exporter": "python",
   "pygments_lexer": "ipython3",
   "version": "3.7.1"
  }
 },
 "nbformat": 4,
 "nbformat_minor": 2
}
